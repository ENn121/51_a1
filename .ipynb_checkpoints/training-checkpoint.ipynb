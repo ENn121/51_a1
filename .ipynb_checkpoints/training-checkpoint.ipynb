{
 "cells": [
  {
   "cell_type": "code",
   "execution_count": 3,
   "metadata": {},
   "outputs": [
    {
     "name": "stdout",
     "output_type": "stream",
     "text": [
      "[1 1 1 ... 0 0 0]\n",
      "(107394, 19)\n",
      "(107394,)\n",
      "(2000, 19)\n"
     ]
    },
    {
     "name": "stderr",
     "output_type": "stream",
     "text": [
      "/opt/anaconda3/lib/python3.7/site-packages/sklearn/linear_model/logistic.py:432: FutureWarning: Default solver will be changed to 'lbfgs' in 0.22. Specify a solver to silence this warning.\n",
      "  FutureWarning)\n"
     ]
    },
    {
     "name": "stdout",
     "output_type": "stream",
     "text": [
      "[0 0 0 0 0 0 0 0 0 0 0 0 0 0 0 1 1 0 0 0 0 0 0 0 0 0 0 0 0 0 0 0 1 0 0 1 1\n",
      " 1 0 1 0 0 0 0 0 0 0 0 0 0]\n",
      "[[0.99702459 0.00297541]\n",
      " [0.98543325 0.01456675]\n",
      " [0.99756102 0.00243898]\n",
      " ...\n",
      " [0.99401427 0.00598573]\n",
      " [0.98663168 0.01336832]\n",
      " [0.99530038 0.00469962]]\n",
      "2000\n"
     ]
    }
   ],
   "source": [
    "import pandas as pd\n",
    "import numpy as np\n",
    "import random\n",
    "import sklearn.metrics as metrics\n",
    "from sklearn.linear_model import LogisticRegression\n",
    "from sklearn.ensemble import RandomForestClassifier\n",
    "from sklearn.naive_bayes import MultinomialNB\n",
    "\n",
    "pos = pd.read_csv('positive.csv', sep='\\t')\n",
    "pos['label'] = 1\n",
    "neg = pd.read_csv('negative.csv', sep='\\t')\n",
    "neg['label'] = 0\n",
    "test_final = pd.read_csv('test.csv', sep='\\t')\n",
    "#print(len(test_final))\n",
    "feature = pd.concat([pos, neg], ignore_index=True)\n",
    "label = feature['label']\n",
    "label = np.array(label)\n",
    "print(label)\n",
    "y_test = []\n",
    "for i in range(2000):\n",
    "    y_test.append(1)\n",
    "#print(y_test)\n",
    "y_test = np.array(y_test)\n",
    "#print(y_test)\n",
    "columns = [\n",
    "    #'source_feature',\n",
    "    #'target_feature',\n",
    "    'len_source_predecessors',\n",
    "    'len_source_successors',\n",
    "    'len_target_predecessors',\n",
    "    'len_target_successors',\n",
    "    'adamic_adar_index',\n",
    "    'cluster_source',\n",
    "    'cluster_target',\n",
    "    'common_predecessor_number',\n",
    "    'common_successor_number',\n",
    "    'source_authorities',\n",
    "    'source_pagerank',\n",
    "    'target_authorities',\n",
    "    'target_pagerank',\n",
    "    'jaccard_coefficient',\n",
    "    'jaccard_distance_between_predecessors',\n",
    "    'jaccard_distance_between_successors',\n",
    "    'preference_attachment',\n",
    "    'resource_allocation_index',\n",
    "    'shortest_path'\n",
    "]\n",
    "\n",
    "feature = feature[columns]\n",
    "test_final = test_final[columns]\n",
    "X_train = feature\n",
    "y_train = label\n",
    "X_test = test_final\n",
    "#X_test.dropna(inplace=True)\n",
    "#X_train.fillna(0,inplace=True)\n",
    "X_test.fillna(0,inplace=True)\n",
    "#print(np.isnan(X_test).any())\n",
    "\n",
    "print(X_train.shape)\n",
    "print(y_train.shape)\n",
    "#print(y_train)\n",
    "print(X_test.shape)\n",
    "#print(y_test.shape)\n",
    "\n",
    "#print(y_test)\n",
    "clf = LogisticRegression()\n",
    "rfc = RandomForestClassifier(bootstrap=True, class_weight=None, criterion='gini',\n",
    "            max_depth=2, max_features='auto', max_leaf_nodes=100,\n",
    "            min_impurity_decrease=0.0, min_impurity_split=None,\n",
    "            min_samples_leaf=5, min_samples_split=5,\n",
    "            min_weight_fraction_leaf=0.0, n_estimators=50, n_jobs=4,\n",
    "            oob_score=False, random_state=42, verbose=0, warm_start=False)\n",
    "mnb = MultinomialNB(alpha = 0.7)\n",
    "clf.fit(X_train, y_train)\n",
    "\n",
    "\n",
    "#mtry = joblib.load('model.pkl')\n",
    "#gbm = lgb.train(params, train_data, categorical_feature=columns)\n",
    "preds = clf.predict(X_test)\n",
    "pred = clf.predict_proba(X_test)\n",
    "print(preds[:50])\n",
    "print(pred)\n",
    "print(len(pred))\n",
    "#print(metrics.roc_auc_score(y_test, preds))\n",
    "\n",
    "\n",
    "np.savetxt('persons.csv',pred,delimiter=',')\n",
    "\n",
    "#print(clf.feature_importance())\n"
   ]
  },
  {
   "cell_type": "code",
   "execution_count": null,
   "metadata": {},
   "outputs": [],
   "source": []
  },
  {
   "cell_type": "code",
   "execution_count": null,
   "metadata": {},
   "outputs": [],
   "source": []
  }
 ],
 "metadata": {
  "kernelspec": {
   "display_name": "Python 3",
   "language": "python",
   "name": "python3"
  },
  "language_info": {
   "codemirror_mode": {
    "name": "ipython",
    "version": 3
   },
   "file_extension": ".py",
   "mimetype": "text/x-python",
   "name": "python",
   "nbconvert_exporter": "python",
   "pygments_lexer": "ipython3",
   "version": "3.7.4"
  }
 },
 "nbformat": 4,
 "nbformat_minor": 4
}
